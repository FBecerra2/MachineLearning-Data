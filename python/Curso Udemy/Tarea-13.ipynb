{
 "metadata": {
  "language_info": {
   "codemirror_mode": {
    "name": "ipython",
    "version": 3
   },
   "file_extension": ".py",
   "mimetype": "text/x-python",
   "name": "python",
   "nbconvert_exporter": "python",
   "pygments_lexer": "ipython3",
   "version": "3.8.3-candidate"
  },
  "orig_nbformat": 2,
  "kernelspec": {
   "name": "python38364bitad6dd5948d2e4135a574b6870864a6cc",
   "display_name": "Python 3.8.3 64-bit"
  }
 },
 "nbformat": 4,
 "nbformat_minor": 2,
 "cells": [
  {
   "cell_type": "code",
   "execution_count": 69,
   "metadata": {},
   "outputs": [],
   "source": [
    "import pandas as pd\n",
    "import numpy as np\n",
    "import math"
   ]
  },
  {
   "cell_type": "code",
   "execution_count": 150,
   "metadata": {},
   "outputs": [],
   "source": [
    "df=pd.read_table('./dataframe/datacrab.txt', delimiter=' ')"
   ]
  },
  {
   "cell_type": "code",
   "execution_count": 151,
   "metadata": {
    "tags": []
   },
   "outputs": [],
   "source": [
    "cw=df.width"
   ]
  },
  {
   "cell_type": "code",
   "execution_count": 152,
   "metadata": {},
   "outputs": [],
   "source": [
    "n = len(cw)"
   ]
  },
  {
   "cell_type": "markdown",
   "metadata": {},
   "source": [
    "# Regla de Scott"
   ]
  },
  {
   "cell_type": "code",
   "execution_count": 153,
   "metadata": {
    "tags": []
   },
   "outputs": [],
   "source": [
    "As= 3.5*cw.std()*n**(-1/3) #amplitud teorica\n",
    "k= math.ceil((cw.max()-cw.min())/(As))\n"
   ]
  },
  {
   "cell_type": "code",
   "execution_count": 154,
   "metadata": {},
   "outputs": [],
   "source": [
    "A1 = (cw.max()-cw.min())/k\n"
   ]
  },
  {
   "cell_type": "code",
   "execution_count": 155,
   "metadata": {},
   "outputs": [],
   "source": [
    "A=1.3 #aca lo aproximamos al valor que mejor cuadre para el hist"
   ]
  },
  {
   "cell_type": "markdown",
   "metadata": {},
   "source": [
    "# Calcular los Extremos"
   ]
  },
  {
   "cell_type": "code",
   "execution_count": 156,
   "metadata": {},
   "outputs": [],
   "source": [
    "L1 = cw.min()-1/2*0.1"
   ]
  },
  {
   "cell_type": "markdown",
   "metadata": {},
   "source": [
    "# Rango"
   ]
  },
  {
   "cell_type": "code",
   "execution_count": 157,
   "metadata": {
    "tags": []
   },
   "outputs": [],
   "source": [
    "L = L1 + A*np.arange(11)"
   ]
  },
  {
   "cell_type": "markdown",
   "metadata": {},
   "source": [
    "# Marcas de clase"
   ]
  },
  {
   "cell_type": "code",
   "execution_count": 158,
   "metadata": {},
   "outputs": [],
   "source": [
    "X1 = (L[0]+L[1])/2"
   ]
  },
  {
   "cell_type": "code",
   "execution_count": 160,
   "metadata": {},
   "outputs": [
    {
     "output_type": "execute_result",
     "data": {
      "text/plain": "array([21.6, 22.9, 24.2, 25.5, 26.8, 28.1, 29.4, 30.7, 32. , 33.3])"
     },
     "metadata": {},
     "execution_count": 160
    }
   ],
   "source": [
    "X2 = X1 + A*np.arange(10)\n",
    "X2"
   ]
  },
  {
   "cell_type": "markdown",
   "metadata": {},
   "source": [
    "# Regla de la Raiz en Python"
   ]
  },
  {
   "cell_type": "code",
   "execution_count": 133,
   "metadata": {
    "tags": []
   },
   "outputs": [
    {
     "output_type": "stream",
     "name": "stdout",
     "text": "14\n"
    }
   ],
   "source": [
    "k1 = math.ceil(math.sqrt(n))# tomo la parte entera de la raiz cuadrada de n hacia arriba\n",
    "print(k1)"
   ]
  },
  {
   "cell_type": "code",
   "execution_count": 134,
   "metadata": {},
   "outputs": [
    {
     "output_type": "execute_result",
     "data": {
      "text/plain": "0.8928571428571429"
     },
     "metadata": {},
     "execution_count": 134
    }
   ],
   "source": [
    "A= (cw.max()-cw.min())/k1 #Amplitud del rango\n",
    "A"
   ]
  },
  {
   "cell_type": "code",
   "execution_count": 135,
   "metadata": {
    "tags": []
   },
   "outputs": [
    {
     "output_type": "stream",
     "name": "stdout",
     "text": "20.93\n"
    }
   ],
   "source": [
    "L2=cw.min()-1/2*0.14#Calcular los extremos de los intervalos\n",
    "print(L2)"
   ]
  },
  {
   "cell_type": "code",
   "execution_count": 143,
   "metadata": {},
   "outputs": [
    {
     "output_type": "execute_result",
     "data": {
      "text/plain": "array([20.93, 21.82, 22.72, 23.61, 24.5 , 25.39, 26.29, 27.18, 28.07,\n       28.97, 29.86])"
     },
     "metadata": {},
     "execution_count": 143
    }
   ],
   "source": [
    "L3=L2+A*np.arange(11) #Marcas de Intervalo\n",
    "L3=np.round(L3,2)\n",
    "L3"
   ]
  },
  {
   "cell_type": "code",
   "execution_count": 145,
   "metadata": {},
   "outputs": [
    {
     "output_type": "execute_result",
     "data": {
      "text/plain": "array([21.6       , 22.49285714, 23.38571429, 24.27857143, 25.17142857,\n       26.06428571, 26.95714286, 27.85      , 28.74285714, 29.63571429])"
     },
     "metadata": {},
     "execution_count": 145
    }
   ],
   "source": [
    "X1=(L[0]+L[1])/2#Marca de clase\n",
    "X1\n",
    "X = X1+A*np.arange(10)\n",
    "X"
   ]
  },
  {
   "cell_type": "markdown",
   "metadata": {},
   "source": [
    "# Regla de Sturges"
   ]
  },
  {
   "cell_type": "code",
   "execution_count": 161,
   "metadata": {
    "tags": []
   },
   "outputs": [
    {
     "output_type": "stream",
     "name": "stdout",
     "text": "9\n"
    }
   ],
   "source": [
    "k2 = math.ceil(1+math.log(n,2)) # tomo la parte entera hacia arriba \n",
    "print(k2)"
   ]
  },
  {
   "cell_type": "code",
   "execution_count": 162,
   "metadata": {},
   "outputs": [
    {
     "output_type": "execute_result",
     "data": {
      "text/plain": "1.3888888888888888"
     },
     "metadata": {},
     "execution_count": 162
    }
   ],
   "source": [
    "A = (cw.max()-cw.min())/k2 #Amplitud de los intevalos\n",
    "A"
   ]
  },
  {
   "cell_type": "code",
   "execution_count": 163,
   "metadata": {},
   "outputs": [
    {
     "output_type": "execute_result",
     "data": {
      "text/plain": "20.955"
     },
     "metadata": {},
     "execution_count": 163
    }
   ],
   "source": [
    "L1 = cw.min()-1/2*0.09#extremo delos intevalos\n",
    "L1"
   ]
  },
  {
   "cell_type": "code",
   "execution_count": 168,
   "metadata": {},
   "outputs": [
    {
     "output_type": "execute_result",
     "data": {
      "text/plain": "array([20.955     , 22.34388889, 23.73277778, 25.12166667, 26.51055556,\n       27.89944444, 29.28833333, 30.67722222, 32.06611111, 33.455     ,\n       34.84388889])"
     },
     "metadata": {},
     "execution_count": 168
    }
   ],
   "source": [
    "L = L1+A*np.arange(11)\n",
    "L"
   ]
  },
  {
   "cell_type": "code",
   "execution_count": 174,
   "metadata": {},
   "outputs": [
    {
     "output_type": "execute_result",
     "data": {
      "text/plain": "array([21.65, 23.04, 24.43, 25.82, 27.2 , 28.59, 29.98, 31.37, 32.76,\n       34.15])"
     },
     "metadata": {},
     "execution_count": 174
    }
   ],
   "source": [
    "X1=(L[0]+L[1])/2#Marcas de la clase\n",
    "X1\n",
    "X = np.round(X1+A*np.arange(10),2)\n",
    "X"
   ]
  },
  {
   "cell_type": "markdown",
   "metadata": {},
   "source": [
    "# Regla Freedman-Diaconis\n"
   ]
  },
  {
   "cell_type": "code",
   "execution_count": 175,
   "metadata": {
    "tags": []
   },
   "outputs": [
    {
     "output_type": "stream",
     "name": "stdout",
     "text": "13\n"
    }
   ],
   "source": [
    "afd= 2*(cw.quantile(0.75)-cw.quantile(0.25))*n**(-1/3)#Amplitud teórica\n",
    "k3=math.ceil((cw.max()-cw.min())/afd)\n",
    "print(k3)"
   ]
  },
  {
   "cell_type": "code",
   "execution_count": 176,
   "metadata": {},
   "outputs": [
    {
     "output_type": "execute_result",
     "data": {
      "text/plain": "0.9615384615384616"
     },
     "metadata": {},
     "execution_count": 176
    }
   ],
   "source": [
    "A= (cw.max()-cw.min())/k3 #Amplitud de los intervalos\n",
    "A"
   ]
  },
  {
   "cell_type": "code",
   "execution_count": 178,
   "metadata": {},
   "outputs": [
    {
     "output_type": "execute_result",
     "data": {
      "text/plain": "20.935"
     },
     "metadata": {},
     "execution_count": 178
    }
   ],
   "source": [
    "L1=cw.min()-1/2*(k3/100) #Extremos de los intevalos\n",
    "L1"
   ]
  },
  {
   "cell_type": "code",
   "execution_count": 179,
   "metadata": {},
   "outputs": [
    {
     "output_type": "execute_result",
     "data": {
      "text/plain": "array([20.935     , 21.89653846, 22.85807692, 23.81961538, 24.78115385,\n       25.74269231, 26.70423077, 27.66576923, 28.62730769, 29.58884615,\n       30.55038462])"
     },
     "metadata": {},
     "execution_count": 179
    }
   ],
   "source": [
    "L =L1+A*np.arange(11)\n",
    "L"
   ]
  },
  {
   "cell_type": "code",
   "execution_count": 181,
   "metadata": {},
   "outputs": [
    {
     "output_type": "execute_result",
     "data": {
      "text/plain": "21.41576923076923"
     },
     "metadata": {},
     "execution_count": 181
    }
   ],
   "source": [
    "X1=(L[0]+L[1])/2 #Calcular marca de la clase\n",
    "X1"
   ]
  },
  {
   "cell_type": "code",
   "execution_count": 182,
   "metadata": {
    "tags": []
   },
   "outputs": [
    {
     "output_type": "stream",
     "name": "stdout",
     "text": "[21.42 22.38 23.34 24.3  25.26 26.22 27.18 28.15 29.11 30.07]\n"
    }
   ],
   "source": [
    "X= X1+A*np.arange(10)\n",
    "X = np.round(X,2)\n",
    "print(X)"
   ]
  },
  {
   "cell_type": "code",
   "execution_count": null,
   "metadata": {},
   "outputs": [],
   "source": []
  }
 ]
}