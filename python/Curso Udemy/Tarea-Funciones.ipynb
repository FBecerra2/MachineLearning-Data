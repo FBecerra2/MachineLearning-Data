{
 "cells": [
  {
   "cell_type": "markdown",
   "metadata": {},
   "source": [
    "#"
   ]
  },
  {
   "cell_type": "code",
   "execution_count": 39,
   "metadata": {},
   "outputs": [
    {
     "name": "stdin",
     "output_type": "stream",
     "text": [
      "Introduce un numero -8\n"
     ]
    },
    {
     "name": "stdout",
     "output_type": "stream",
     "text": [
      "El numero es negativo\n"
     ]
    }
   ],
   "source": [
    "nro = int(input(\"Introduce un numero\"))\n",
    "if nro > 0:\n",
    "    print (\"El numero es positivo.\")\n",
    "elif nro < 0:\n",
    "     print (\"El numero es negativo\")\n",
    "else:\n",
    "    print (\"el numero es neutro\")"
   ]
  },
  {
   "cell_type": "code",
   "execution_count": null,
   "metadata": {},
   "outputs": [],
   "source": [
    "\n"
   ]
  },
  {
   "cell_type": "code",
   "execution_count": 26,
   "metadata": {},
   "outputs": [
    {
     "name": "stdin",
     "output_type": "stream",
     "text": [
      "Ingrese un numero:  10\n"
     ]
    },
    {
     "name": "stdout",
     "output_type": "stream",
     "text": [
      "El numero no esta entre -5 y 5\n"
     ]
    }
   ],
   "source": [
    "x = int(input(\"Ingrese un numero: \"))\n",
    "if x > -5 and x < 5:\n",
    "        print(\"Has escrito un numero entre -5 y 5\")\n",
    "else:\n",
    "        print(\"El numero no esta entre -5 y 5\")"
   ]
  },
  {
   "cell_type": "code",
   "execution_count": 44,
   "metadata": {},
   "outputs": [
    {
     "name": "stdin",
     "output_type": "stream",
     "text": [
      "Ingrese un numero para eje horizontal:  0\n",
      "Ingrese un numero para eje vertical:  0\n"
     ]
    },
    {
     "name": "stdout",
     "output_type": "stream",
     "text": [
      "Origen\n"
     ]
    }
   ],
   "source": [
    "x = int(input(\"Ingrese un numero para eje horizontal: \"))\n",
    "y = int(input(\"Ingrese un numero para eje vertical: \"))\n",
    "\n",
    "if x>0 and y>0:\n",
    "    print(\"Cuadrante I\")\n",
    "elif x<0 and y>0:\n",
    "    print(\"Cuadrante II\")\n",
    "elif x<0 and y<0:\n",
    "    print(\"Cuadrante III\")\n",
    "elif x>0 and y<0:\n",
    "    print(\"Cuadrante IV\")\n",
    "else:\n",
    "    print(\"Origen\")"
   ]
  },
  {
   "cell_type": "code",
   "execution_count": 50,
   "metadata": {},
   "outputs": [
    {
     "name": "stdin",
     "output_type": "stream",
     "text": [
      "Ingrese un numero dividendo:  6\n",
      "Ingrese un numero divisor:  2\n"
     ]
    },
    {
     "name": "stdout",
     "output_type": "stream",
     "text": [
      "Es cociente es: 3\n",
      "Es resto es: 0\n"
     ]
    }
   ],
   "source": [
    "x = int(input(\"Ingrese un numero dividendo: \"))\n",
    "y = int(input(\"Ingrese un numero divisor: \"))\n",
    "\n",
    "cociente = (x//y)\n",
    "resto = (x%y)\n",
    "\n",
    "print(\"Es cociente es: \"+str(cociente))\n",
    "print(\"Es resto es: \"+str(resto))"
   ]
  },
  {
   "cell_type": "code",
   "execution_count": 62,
   "metadata": {},
   "outputs": [
    {
     "name": "stdin",
     "output_type": "stream",
     "text": [
      "Ingrese un numero:  2\n"
     ]
    },
    {
     "name": "stdout",
     "output_type": "stream",
     "text": [
      "No es Cuadrado perfecto.\n"
     ]
    }
   ],
   "source": [
    "x = int(input(\"Ingrese un numero: \"))\n",
    "\n",
    "a = math.sqrt(x)\n",
    "b = math.trunc(math.sqrt(9))\n",
    "\n",
    "if a == b:\n",
    "    print(\"Es Cuadrado perfecto.\")\n",
    "else:\n",
    "    print(\"No es Cuadrado perfecto.\")"
   ]
  },
  {
   "cell_type": "code",
   "execution_count": 71,
   "metadata": {},
   "outputs": [
    {
     "name": "stdin",
     "output_type": "stream",
     "text": [
      "Ingrese un numero:  2100\n"
     ]
    },
    {
     "name": "stdout",
     "output_type": "stream",
     "text": [
      "No es Año Bisciesto\n"
     ]
    }
   ],
   "source": [
    "x = int(input(\"Ingrese un numero: \"))\n",
    "\n",
    "if x%4 == 0 and x%400==0:\n",
    "    print(\"Año Bisciesto\")\n",
    "else:\n",
    "    print(\"No es Año Bisciesto\")"
   ]
  },
  {
   "cell_type": "code",
   "execution_count": 73,
   "metadata": {},
   "outputs": [
    {
     "data": {
      "text/plain": [
       "0"
      ]
     },
     "execution_count": 73,
     "metadata": {},
     "output_type": "execute_result"
    }
   ],
   "source": [
    "2100%4"
   ]
  },
  {
   "cell_type": "code",
   "execution_count": 12,
   "metadata": {},
   "outputs": [
    {
     "name": "stdin",
     "output_type": "stream",
     "text": [
      "Ingrese un numero en el rango 1-8:  8\n",
      "Ingrese una letra en rando a-h:  g\n"
     ]
    },
    {
     "name": "stdout",
     "output_type": "stream",
     "text": [
      "Negro\n"
     ]
    }
   ],
   "source": [
    "x = int(input(\"Ingrese un numero en el rango 1-8: \"))\n",
    "y = str(input(\"Ingrese una letra en rando a-h: \"))\n",
    "\n",
    "letras = [\"a\",\"c\",\"e\",\"g\"]\n",
    "\n",
    "if x%2 != 0:\n",
    "    if y in letras:\n",
    "        print(\"Blanco\")\n",
    "    else:\n",
    "        print(\"Negro\")\n",
    "else:\n",
    "    if y in letras:\n",
    "        print(\"Negro\")\n",
    "    else:\n",
    "        print(\"Blanca\")"
   ]
  },
  {
   "cell_type": "code",
   "execution_count": null,
   "metadata": {},
   "outputs": [],
   "source": []
  },
  {
   "cell_type": "code",
   "execution_count": null,
   "metadata": {},
   "outputs": [],
   "source": [
    "x,y = input(\"Ingrese ubicacion Casilla , letra y numero. Ej: 8 a :  \").split()\n",
    "x=int(x)\n",
    "letras=[\"a\",\"c\",\"e\",\"g\"]\n",
    "if x%2==0:\n",
    "    if y in letras:\n",
    "        print(\"la casilla es blanca\")\n",
    "    else:\n",
    "        print(\"la casilla es negra\")\n",
    "else:\n",
    "    if y in letras:\n",
    "        print(\"la casilla es negra\")\n",
    "    else:\n",
    "        print(\"la casilla es blanca\")"
   ]
  },
  {
   "cell_type": "code",
   "execution_count": null,
   "metadata": {},
   "outputs": [],
   "source": []
  },
  {
   "cell_type": "code",
   "execution_count": null,
   "metadata": {},
   "outputs": [],
   "source": []
  },
  {
   "cell_type": "code",
   "execution_count": null,
   "metadata": {},
   "outputs": [],
   "source": []
  },
  {
   "cell_type": "code",
   "execution_count": null,
   "metadata": {},
   "outputs": [],
   "source": []
  },
  {
   "cell_type": "code",
   "execution_count": null,
   "metadata": {},
   "outputs": [],
   "source": []
  },
  {
   "cell_type": "code",
   "execution_count": null,
   "metadata": {},
   "outputs": [],
   "source": []
  },
  {
   "cell_type": "code",
   "execution_count": null,
   "metadata": {},
   "outputs": [],
   "source": []
  },
  {
   "cell_type": "code",
   "execution_count": null,
   "metadata": {},
   "outputs": [],
   "source": []
  },
  {
   "cell_type": "code",
   "execution_count": null,
   "metadata": {},
   "outputs": [],
   "source": []
  },
  {
   "cell_type": "code",
   "execution_count": null,
   "metadata": {},
   "outputs": [],
   "source": []
  },
  {
   "cell_type": "code",
   "execution_count": null,
   "metadata": {},
   "outputs": [],
   "source": []
  },
  {
   "cell_type": "code",
   "execution_count": null,
   "metadata": {},
   "outputs": [],
   "source": []
  },
  {
   "cell_type": "code",
   "execution_count": null,
   "metadata": {},
   "outputs": [],
   "source": []
  },
  {
   "cell_type": "code",
   "execution_count": null,
   "metadata": {},
   "outputs": [],
   "source": []
  },
  {
   "cell_type": "code",
   "execution_count": null,
   "metadata": {},
   "outputs": [],
   "source": []
  },
  {
   "cell_type": "code",
   "execution_count": null,
   "metadata": {},
   "outputs": [],
   "source": []
  },
  {
   "cell_type": "code",
   "execution_count": null,
   "metadata": {},
   "outputs": [],
   "source": []
  },
  {
   "cell_type": "code",
   "execution_count": null,
   "metadata": {},
   "outputs": [],
   "source": []
  },
  {
   "cell_type": "code",
   "execution_count": null,
   "metadata": {},
   "outputs": [],
   "source": []
  },
  {
   "cell_type": "code",
   "execution_count": null,
   "metadata": {},
   "outputs": [],
   "source": []
  },
  {
   "cell_type": "code",
   "execution_count": null,
   "metadata": {},
   "outputs": [],
   "source": []
  }
 ],
 "metadata": {
  "kernelspec": {
   "display_name": "Python 3",
   "language": "python",
   "name": "python3"
  },
  "language_info": {
   "codemirror_mode": {
    "name": "ipython",
    "version": 3
   },
   "file_extension": ".py",
   "mimetype": "text/x-python",
   "name": "python",
   "nbconvert_exporter": "python",
   "pygments_lexer": "ipython3",
   "version": "3.7.6"
  }
 },
 "nbformat": 4,
 "nbformat_minor": 4
}
