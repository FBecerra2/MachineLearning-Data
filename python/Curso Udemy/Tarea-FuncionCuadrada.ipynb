{
 "cells": [
  {
   "cell_type": "markdown",
   "metadata": {},
   "source": [
    "# Funcion cuadratica"
   ]
  },
  {
   "cell_type": "code",
   "execution_count": null,
   "metadata": {},
   "outputs": [],
   "source": [
    "from math import sqrt "
   ]
  },
  {
   "cell_type": "code",
   "execution_count": null,
   "metadata": {},
   "outputs": [],
   "source": [
    "A = int(input(\"Ingrese A\\n\"))\n",
    "B = int(input(\"Ingrese B\\n\"))\n",
    "C = int(input(\"Ingrese C\\n\"))\n",
    "\n",
    "if ((B**2-4*A*C)) <= 0 :\n",
    "        print(\"La Raiz va negativa\")\n",
    "else:\n",
    "        x1 = (-B+sqrt(B**2-(4*A*C)))/(2*A)\n",
    "        xi = (-B-sqrt(B**2-(4*A*C)))/(2*A)\n",
    "        print(\"Las x1 y x2 son:\", x1 ,xi)\n"
   ]
  },
  {
   "cell_type": "code",
   "execution_count": 28,
   "metadata": {},
   "outputs": [
    {
     "output_type": "stream",
     "name": "stdout",
     "text": "Es Palindromo.\n"
    }
   ],
   "source": [
    "pal = str(input(\"Ingrese la frase: \"))\n",
    "\n",
    "palinv = pal.lower()[::-1]\n",
    "\n",
    "    \n",
    "if (pal == palinv):\n",
    "        print(\" Es Palindromo.\")\n",
    "else:\n",
    "        print(\"No es Palindromo.\")\n",
    " "
   ]
  },
  {
   "cell_type": "code",
   "execution_count": 76,
   "metadata": {},
   "outputs": [],
   "source": [
    "from math import sqrt"
   ]
  },
  {
   "cell_type": "code",
   "execution_count": 8,
   "metadata": {},
   "outputs": [],
   "source": [
    "import numpy as np"
   ]
  },
  {
   "cell_type": "code",
   "execution_count": 60,
   "metadata": {},
   "outputs": [
    {
     "output_type": "stream",
     "name": "stdout",
     "text": "[ 1  2  3  4  5  6  7  8  9 10]\n[1.         1.41421356 1.73205081 2.         2.23606798 2.44948974\n 2.64575131 2.82842712 3.         3.16227766]\n"
    }
   ],
   "source": [
    "x = np.arange(1,11)\n",
    "print(x)\n",
    "print(np.sqrt(x))"
   ]
  },
  {
   "cell_type": "code",
   "execution_count": 112,
   "metadata": {},
   "outputs": [
    {
     "output_type": "stream",
     "name": "stdout",
     "text": "Colocar en minusculas F\n .--.-......\n"
    }
   ],
   "source": [
    "code_morse = {\n",
    "    \"a\": \".-\", \"b\": \"-...\", \"c\": \"-.-.\",\n",
    "    \"d\": \"-..\", \"e\": \".\", \"f\": \"..-.\", \n",
    "    \"g\": \"--.\", \"h\": \"....\", \"i\": \"..\",\n",
    "    \"j\": \"·---\", \"k\": \"-.-\", \"l\": \".-..\", \n",
    "    \"m\": \"--\", \"n\": \"-.\", \"ñ\": \"--.--\",\n",
    "    \"o\": \"---\", \"p\": \".__.\", \"q\": \"--.-\",\n",
    "    \"r\": \".-.\", \"s\": \"...\", \"t\": \"-\", \n",
    "    \"u\": \"..-\", \"v\": \"...-\", \"w\": \".--\", \n",
    "    \"x\": \"-..-\", \"y\": \"-.--\", \"z\": \"--..\",\n",
    "    \n",
    "    \"0\": \"-----\", \"1\": \".----\", \"2\": \"..---\",\n",
    "    \"3\": \"...--\", \"4\": \"....-\", \"5\": \".....\",\n",
    "    \"6\": \"-....\", \"7\": \"--...\", \"8\": \"---..\", \n",
    "    \"9\": \"----.\",\n",
    "    \n",
    "    \".\": \".-.-.-\", \",\": \"-.-.--\", \"?\": \"..--..\", \n",
    "    \"\\\"\": \".-..-.\"\n",
    "}\n",
    "\n",
    "word = str(input(\"Ingrese una palabra: \"))\n",
    "\n",
    "text = \" \"\n",
    "\n",
    "for n in word:\n",
    "    if n != '' and n in code_morse:\n",
    "        text += code_morse[n]\n",
    "    else:\n",
    "        print(\"Colocar en minusculas\",n)\n",
    "   \n",
    "print(text)"
   ]
  },
  {
   "cell_type": "code",
   "execution_count": 7,
   "metadata": {},
   "outputs": [
    {
     "output_type": "stream",
     "name": "stdout",
     "text": "no estan en ambos diccionarios\n"
    }
   ],
   "source": [
    "di1 = {\n",
    "    'a' : 1,\n",
    "    'b' : 2,\n",
    "    'c' : 3,\n",
    "    'd' : 4,\n",
    "    'e' : 5,\n",
    "    'f' : 6,\n",
    "    'g' : 7,\n",
    "    'h' : 8,\n",
    "    'j' : 9,\n",
    "    'k' : 10,\n",
    "    'l' : 11,\n",
    "    'm' : 12\n",
    "}\n",
    "di2 = {\n",
    "    'n' : 13,\n",
    "    'o' : 14,\n",
    "    'p' : 1,\n",
    "    'q' : 2,\n",
    "    'r' : 3,\n",
    "    's' : 45,\n",
    "    't' : 6,\n",
    "    'u' : 15,\n",
    "    'v' : 16,\n",
    "    'w' : 17,\n",
    "    'x' : 9,\n",
    "    'y' : 10,\n",
    "    'z' : 18\n",
    "}\n",
    "n = (input(\"Ingrese una letra: \"))\n",
    "\n",
    "if n in di1 and di2:\n",
    "    print(\"Esta en ambos diccionarios\")\n",
    "else:\n",
    "    print(\"no estan en ambos diccionarios\")"
   ]
  },
  {
   "cell_type": "code",
   "execution_count": 57,
   "metadata": {},
   "outputs": [
    {
     "output_type": "stream",
     "name": "stdout",
     "text": "No es Primo\nNo es Primo\nNo es Primo\n"
    },
    {
     "output_type": "error",
     "ename": "ValueError",
     "evalue": "invalid literal for int() with base 10: ''",
     "traceback": [
      "\u001b[1;31m---------------------------------------------------------------------------\u001b[0m",
      "\u001b[1;31mValueError\u001b[0m                                Traceback (most recent call last)",
      "\u001b[1;32m<ipython-input-57-6d8745a00444>\u001b[0m in \u001b[0;36m<module>\u001b[1;34m\u001b[0m\n\u001b[0;32m      1\u001b[0m \u001b[1;32mwhile\u001b[0m \u001b[1;36m1\u001b[0m\u001b[1;33m:\u001b[0m\u001b[1;33m\u001b[0m\u001b[1;33m\u001b[0m\u001b[0m\n\u001b[1;32m----> 2\u001b[1;33m     \u001b[0mx\u001b[0m \u001b[1;33m=\u001b[0m \u001b[0mint\u001b[0m\u001b[1;33m(\u001b[0m\u001b[0minput\u001b[0m\u001b[1;33m(\u001b[0m\u001b[1;34m\"Ingrese un numero: \"\u001b[0m\u001b[1;33m)\u001b[0m\u001b[1;33m)\u001b[0m\u001b[1;33m\u001b[0m\u001b[1;33m\u001b[0m\u001b[0m\n\u001b[0m\u001b[0;32m      3\u001b[0m \u001b[1;33m\u001b[0m\u001b[0m\n\u001b[0;32m      4\u001b[0m     \u001b[0mdiv\u001b[0m \u001b[1;33m=\u001b[0m \u001b[1;36m2\u001b[0m\u001b[1;33m\u001b[0m\u001b[1;33m\u001b[0m\u001b[0m\n\u001b[0;32m      5\u001b[0m \u001b[1;33m\u001b[0m\u001b[0m\n",
      "\u001b[1;31mValueError\u001b[0m: invalid literal for int() with base 10: ''"
     ]
    }
   ],
   "source": [
    "while 1:\n",
    "    x = int(input(\"Ingrese un numero: \"))\n",
    "\n",
    "    div = 2\n",
    "\n",
    "    while (x>div):\n",
    "            if x % div == 0:\n",
    "                print(\"No es Primo\")\n",
    "                break\n",
    "            elif x % div !=0:\n",
    "                div = x + 1\n",
    "                \n",
    "    if x == div:\n",
    "                print(\"Es primo.\")\n"
   ]
  },
  {
   "cell_type": "code",
   "execution_count": null,
   "metadata": {},
   "outputs": [],
   "source": []
  },
  {
   "cell_type": "code",
   "execution_count": null,
   "metadata": {},
   "outputs": [],
   "source": []
  }
 ],
 "metadata": {
  "kernelspec": {
   "display_name": "Python 3.8.3 64-bit",
   "language": "python",
   "name": "python38364bitad6dd5948d2e4135a574b6870864a6cc"
  },
  "language_info": {
   "codemirror_mode": {
    "name": "ipython",
    "version": 3
   },
   "file_extension": ".py",
   "mimetype": "text/x-python",
   "name": "python",
   "nbconvert_exporter": "python",
   "pygments_lexer": "ipython3",
   "version": "3.8.3-candidate"
  }
 },
 "nbformat": 4,
 "nbformat_minor": 4
}