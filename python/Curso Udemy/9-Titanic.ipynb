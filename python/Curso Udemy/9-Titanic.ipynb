{
 "metadata": {
  "language_info": {
   "codemirror_mode": {
    "name": "ipython",
    "version": 3
   },
   "file_extension": ".py",
   "mimetype": "text/x-python",
   "name": "python",
   "nbconvert_exporter": "python",
   "pygments_lexer": "ipython3",
   "version": 3
  },
  "orig_nbformat": 2,
  "kernelspec": {
   "name": "python_defaultSpec_1595562854138",
   "display_name": "Python 3.8.3 64-bit"
  }
 },
 "nbformat": 4,
 "nbformat_minor": 2,
 "cells": [
  {
   "cell_type": "markdown",
   "metadata": {},
   "source": [
    "# Datos del Titanic"
   ]
  },
  {
   "cell_type": "code",
   "execution_count": 6,
   "metadata": {},
   "outputs": [],
   "source": [
    "import seaborn as sns\n",
    "import numpy as numpy\n",
    "import pandas as pd"
   ]
  },
  {
   "cell_type": "code",
   "execution_count": 7,
   "metadata": {},
   "outputs": [],
   "source": [
    "titanic = sns.load_dataset(\"titanic\")"
   ]
  },
  {
   "cell_type": "code",
   "execution_count": 8,
   "metadata": {},
   "outputs": [
    {
     "output_type": "execute_result",
     "data": {
      "text/plain": "   survived  pclass     sex   age  sibsp  parch     fare embarked  class  \\\n0         0       3    male  22.0      1      0   7.2500        S  Third   \n1         1       1  female  38.0      1      0  71.2833        C  First   \n2         1       3  female  26.0      0      0   7.9250        S  Third   \n3         1       1  female  35.0      1      0  53.1000        S  First   \n4         0       3    male  35.0      0      0   8.0500        S  Third   \n\n     who  adult_male deck  embark_town alive  alone  \n0    man        True  NaN  Southampton    no  False  \n1  woman       False    C    Cherbourg   yes  False  \n2  woman       False  NaN  Southampton   yes   True  \n3  woman       False    C  Southampton   yes  False  \n4    man        True  NaN  Southampton    no   True  ",
      "text/html": "<div>\n<style scoped>\n    .dataframe tbody tr th:only-of-type {\n        vertical-align: middle;\n    }\n\n    .dataframe tbody tr th {\n        vertical-align: top;\n    }\n\n    .dataframe thead th {\n        text-align: right;\n    }\n</style>\n<table border=\"1\" class=\"dataframe\">\n  <thead>\n    <tr style=\"text-align: right;\">\n      <th></th>\n      <th>survived</th>\n      <th>pclass</th>\n      <th>sex</th>\n      <th>age</th>\n      <th>sibsp</th>\n      <th>parch</th>\n      <th>fare</th>\n      <th>embarked</th>\n      <th>class</th>\n      <th>who</th>\n      <th>adult_male</th>\n      <th>deck</th>\n      <th>embark_town</th>\n      <th>alive</th>\n      <th>alone</th>\n    </tr>\n  </thead>\n  <tbody>\n    <tr>\n      <th>0</th>\n      <td>0</td>\n      <td>3</td>\n      <td>male</td>\n      <td>22.0</td>\n      <td>1</td>\n      <td>0</td>\n      <td>7.2500</td>\n      <td>S</td>\n      <td>Third</td>\n      <td>man</td>\n      <td>True</td>\n      <td>NaN</td>\n      <td>Southampton</td>\n      <td>no</td>\n      <td>False</td>\n    </tr>\n    <tr>\n      <th>1</th>\n      <td>1</td>\n      <td>1</td>\n      <td>female</td>\n      <td>38.0</td>\n      <td>1</td>\n      <td>0</td>\n      <td>71.2833</td>\n      <td>C</td>\n      <td>First</td>\n      <td>woman</td>\n      <td>False</td>\n      <td>C</td>\n      <td>Cherbourg</td>\n      <td>yes</td>\n      <td>False</td>\n    </tr>\n    <tr>\n      <th>2</th>\n      <td>1</td>\n      <td>3</td>\n      <td>female</td>\n      <td>26.0</td>\n      <td>0</td>\n      <td>0</td>\n      <td>7.9250</td>\n      <td>S</td>\n      <td>Third</td>\n      <td>woman</td>\n      <td>False</td>\n      <td>NaN</td>\n      <td>Southampton</td>\n      <td>yes</td>\n      <td>True</td>\n    </tr>\n    <tr>\n      <th>3</th>\n      <td>1</td>\n      <td>1</td>\n      <td>female</td>\n      <td>35.0</td>\n      <td>1</td>\n      <td>0</td>\n      <td>53.1000</td>\n      <td>S</td>\n      <td>First</td>\n      <td>woman</td>\n      <td>False</td>\n      <td>C</td>\n      <td>Southampton</td>\n      <td>yes</td>\n      <td>False</td>\n    </tr>\n    <tr>\n      <th>4</th>\n      <td>0</td>\n      <td>3</td>\n      <td>male</td>\n      <td>35.0</td>\n      <td>0</td>\n      <td>0</td>\n      <td>8.0500</td>\n      <td>S</td>\n      <td>Third</td>\n      <td>man</td>\n      <td>True</td>\n      <td>NaN</td>\n      <td>Southampton</td>\n      <td>no</td>\n      <td>True</td>\n    </tr>\n  </tbody>\n</table>\n</div>"
     },
     "metadata": {},
     "execution_count": 8
    }
   ],
   "source": [
    "titanic.head()"
   ]
  },
  {
   "cell_type": "code",
   "execution_count": 9,
   "metadata": {},
   "outputs": [],
   "source": [
    "titanic['survived'] = pd.Categorical(titanic['survived']) #Pasar a factor SURVIVED"
   ]
  },
  {
   "cell_type": "code",
   "execution_count": 10,
   "metadata": {},
   "outputs": [],
   "source": [
    "titanic['pclass'] = pd.Categorical(titanic['pclass'])"
   ]
  },
  {
   "cell_type": "markdown",
   "metadata": {},
   "source": [
    "# Tblas de contingencia de una variable"
   ]
  },
  {
   "cell_type": "code",
   "execution_count": 11,
   "metadata": {},
   "outputs": [
    {
     "output_type": "execute_result",
     "data": {
      "text/plain": "col_0     pasajeros\nsurvived           \n0               549\n1               342",
      "text/html": "<div>\n<style scoped>\n    .dataframe tbody tr th:only-of-type {\n        vertical-align: middle;\n    }\n\n    .dataframe tbody tr th {\n        vertical-align: top;\n    }\n\n    .dataframe thead th {\n        text-align: right;\n    }\n</style>\n<table border=\"1\" class=\"dataframe\">\n  <thead>\n    <tr style=\"text-align: right;\">\n      <th>col_0</th>\n      <th>pasajeros</th>\n    </tr>\n    <tr>\n      <th>survived</th>\n      <th></th>\n    </tr>\n  </thead>\n  <tbody>\n    <tr>\n      <th>0</th>\n      <td>549</td>\n    </tr>\n    <tr>\n      <th>1</th>\n      <td>342</td>\n    </tr>\n  </tbody>\n</table>\n</div>"
     },
     "metadata": {},
     "execution_count": 11
    }
   ],
   "source": [
    "tab=pd.crosstab(index=titanic['survived'],columns='pasajeros') #contruye un data frame que cuenta las variables de la informacion que le vas pasando\n",
    "tab"
   ]
  },
  {
   "cell_type": "code",
   "execution_count": 13,
   "metadata": {},
   "outputs": [
    {
     "output_type": "execute_result",
     "data": {
      "text/plain": "(891, 15)"
     },
     "metadata": {},
     "execution_count": 13
    }
   ],
   "source": [
    "titanic.shape"
   ]
  },
  {
   "cell_type": "code",
   "execution_count": 14,
   "metadata": {},
   "outputs": [
    {
     "output_type": "execute_result",
     "data": {
      "text/plain": "pandas.core.frame.DataFrame"
     },
     "metadata": {},
     "execution_count": 14
    }
   ],
   "source": [
    "type(tab) # para ver el tipo que es"
   ]
  },
  {
   "cell_type": "code",
   "execution_count": 16,
   "metadata": {},
   "outputs": [
    {
     "output_type": "execute_result",
     "data": {
      "text/plain": "col_0   pasajeros\npclass           \n1             216\n2             184\n3             491",
      "text/html": "<div>\n<style scoped>\n    .dataframe tbody tr th:only-of-type {\n        vertical-align: middle;\n    }\n\n    .dataframe tbody tr th {\n        vertical-align: top;\n    }\n\n    .dataframe thead th {\n        text-align: right;\n    }\n</style>\n<table border=\"1\" class=\"dataframe\">\n  <thead>\n    <tr style=\"text-align: right;\">\n      <th>col_0</th>\n      <th>pasajeros</th>\n    </tr>\n    <tr>\n      <th>pclass</th>\n      <th></th>\n    </tr>\n  </thead>\n  <tbody>\n    <tr>\n      <th>1</th>\n      <td>216</td>\n    </tr>\n    <tr>\n      <th>2</th>\n      <td>184</td>\n    </tr>\n    <tr>\n      <th>3</th>\n      <td>491</td>\n    </tr>\n  </tbody>\n</table>\n</div>"
     },
     "metadata": {},
     "execution_count": 16
    }
   ],
   "source": [
    "pd.crosstab(index=titanic['pclass'], columns=['pasajeros'])"
   ]
  },
  {
   "cell_type": "code",
   "execution_count": 17,
   "metadata": {},
   "outputs": [],
   "source": [
    "titanic['sex'] = pd.Categorical(titanic['sex'])"
   ]
  },
  {
   "cell_type": "code",
   "execution_count": 18,
   "metadata": {},
   "outputs": [
    {
     "output_type": "execute_result",
     "data": {
      "text/plain": "col_0   pasajeros\nsex              \nfemale        314\nmale          577",
      "text/html": "<div>\n<style scoped>\n    .dataframe tbody tr th:only-of-type {\n        vertical-align: middle;\n    }\n\n    .dataframe tbody tr th {\n        vertical-align: top;\n    }\n\n    .dataframe thead th {\n        text-align: right;\n    }\n</style>\n<table border=\"1\" class=\"dataframe\">\n  <thead>\n    <tr style=\"text-align: right;\">\n      <th>col_0</th>\n      <th>pasajeros</th>\n    </tr>\n    <tr>\n      <th>sex</th>\n      <th></th>\n    </tr>\n  </thead>\n  <tbody>\n    <tr>\n      <th>female</th>\n      <td>314</td>\n    </tr>\n    <tr>\n      <th>male</th>\n      <td>577</td>\n    </tr>\n  </tbody>\n</table>\n</div>"
     },
     "metadata": {},
     "execution_count": 18
    }
   ],
   "source": [
    "pd.crosstab(index=titanic['sex'], columns=['pasajeros'])"
   ]
  },
  {
   "cell_type": "code",
   "execution_count": 23,
   "metadata": {},
   "outputs": [],
   "source": [
    "titanic['deck'] = pd.Categorical(titanic['deck'])#para tomar los datos Nan"
   ]
  },
  {
   "cell_type": "code",
   "execution_count": 24,
   "metadata": {},
   "outputs": [
    {
     "output_type": "execute_result",
     "data": {
      "text/plain": "col_0  count\ndeck        \nA         15\nB         47\nC         59\nD         33\nE         32\nF         13\nG          4",
      "text/html": "<div>\n<style scoped>\n    .dataframe tbody tr th:only-of-type {\n        vertical-align: middle;\n    }\n\n    .dataframe tbody tr th {\n        vertical-align: top;\n    }\n\n    .dataframe thead th {\n        text-align: right;\n    }\n</style>\n<table border=\"1\" class=\"dataframe\">\n  <thead>\n    <tr style=\"text-align: right;\">\n      <th>col_0</th>\n      <th>count</th>\n    </tr>\n    <tr>\n      <th>deck</th>\n      <th></th>\n    </tr>\n  </thead>\n  <tbody>\n    <tr>\n      <th>A</th>\n      <td>15</td>\n    </tr>\n    <tr>\n      <th>B</th>\n      <td>47</td>\n    </tr>\n    <tr>\n      <th>C</th>\n      <td>59</td>\n    </tr>\n    <tr>\n      <th>D</th>\n      <td>33</td>\n    </tr>\n    <tr>\n      <th>E</th>\n      <td>32</td>\n    </tr>\n    <tr>\n      <th>F</th>\n      <td>13</td>\n    </tr>\n    <tr>\n      <th>G</th>\n      <td>4</td>\n    </tr>\n  </tbody>\n</table>\n</div>"
     },
     "metadata": {},
     "execution_count": 24
    }
   ],
   "source": [
    "pd.crosstab(index=titanic['deck'], columns='count')"
   ]
  },
  {
   "cell_type": "code",
   "execution_count": 25,
   "metadata": {},
   "outputs": [
    {
     "output_type": "execute_result",
     "data": {
      "text/plain": "0      NaN\n1        C\n2      NaN\n3        C\n4      NaN\n      ... \n886    NaN\n887      B\n888    NaN\n889      C\n890    NaN\nName: deck, Length: 891, dtype: category\nCategories (7, object): [A, B, C, D, E, F, G]"
     },
     "metadata": {},
     "execution_count": 25
    }
   ],
   "source": [
    "titanic.deck"
   ]
  },
  {
   "cell_type": "code",
   "execution_count": 27,
   "metadata": {},
   "outputs": [
    {
     "output_type": "execute_result",
     "data": {
      "text/plain": "col_0  count\ndeck        \nA         15\nB         47\nC         59\nD         33\nE         32\nF         13\nG          4",
      "text/html": "<div>\n<style scoped>\n    .dataframe tbody tr th:only-of-type {\n        vertical-align: middle;\n    }\n\n    .dataframe tbody tr th {\n        vertical-align: top;\n    }\n\n    .dataframe thead th {\n        text-align: right;\n    }\n</style>\n<table border=\"1\" class=\"dataframe\">\n  <thead>\n    <tr style=\"text-align: right;\">\n      <th>col_0</th>\n      <th>count</th>\n    </tr>\n    <tr>\n      <th>deck</th>\n      <th></th>\n    </tr>\n  </thead>\n  <tbody>\n    <tr>\n      <th>A</th>\n      <td>15</td>\n    </tr>\n    <tr>\n      <th>B</th>\n      <td>47</td>\n    </tr>\n    <tr>\n      <th>C</th>\n      <td>59</td>\n    </tr>\n    <tr>\n      <th>D</th>\n      <td>33</td>\n    </tr>\n    <tr>\n      <th>E</th>\n      <td>32</td>\n    </tr>\n    <tr>\n      <th>F</th>\n      <td>13</td>\n    </tr>\n    <tr>\n      <th>G</th>\n      <td>4</td>\n    </tr>\n  </tbody>\n</table>\n</div>"
     },
     "metadata": {},
     "execution_count": 27
    }
   ],
   "source": [
    "tab_c=pd.crosstab(index=titanic['deck'], columns='count')\n",
    "tab_c"
   ]
  },
  {
   "cell_type": "code",
   "execution_count": 28,
   "metadata": {},
   "outputs": [
    {
     "output_type": "execute_result",
     "data": {
      "text/plain": "col_0\ncount    203\ndtype: int64"
     },
     "metadata": {},
     "execution_count": 28
    }
   ],
   "source": [
    "tab_c.sum()"
   ]
  },
  {
   "cell_type": "code",
   "execution_count": 29,
   "metadata": {},
   "outputs": [
    {
     "output_type": "execute_result",
     "data": {
      "text/plain": "(7, 1)"
     },
     "metadata": {},
     "execution_count": 29
    }
   ],
   "source": [
    "tab_c.shape"
   ]
  },
  {
   "cell_type": "code",
   "execution_count": 30,
   "metadata": {},
   "outputs": [
    {
     "output_type": "execute_result",
     "data": {
      "text/plain": "col_0  count\ndeck        \nB         47\nC         59\nD         33\nE         32",
      "text/html": "<div>\n<style scoped>\n    .dataframe tbody tr th:only-of-type {\n        vertical-align: middle;\n    }\n\n    .dataframe tbody tr th {\n        vertical-align: top;\n    }\n\n    .dataframe thead th {\n        text-align: right;\n    }\n</style>\n<table border=\"1\" class=\"dataframe\">\n  <thead>\n    <tr style=\"text-align: right;\">\n      <th>col_0</th>\n      <th>count</th>\n    </tr>\n    <tr>\n      <th>deck</th>\n      <th></th>\n    </tr>\n  </thead>\n  <tbody>\n    <tr>\n      <th>B</th>\n      <td>47</td>\n    </tr>\n    <tr>\n      <th>C</th>\n      <td>59</td>\n    </tr>\n    <tr>\n      <th>D</th>\n      <td>33</td>\n    </tr>\n    <tr>\n      <th>E</th>\n      <td>32</td>\n    </tr>\n  </tbody>\n</table>\n</div>"
     },
     "metadata": {},
     "execution_count": 30
    }
   ],
   "source": [
    "tab_c.iloc[1:5]"
   ]
  },
  {
   "cell_type": "code",
   "execution_count": 32,
   "metadata": {},
   "outputs": [
    {
     "output_type": "execute_result",
     "data": {
      "text/plain": "col_0      count\ndeck            \nA       7.389163\nB      23.152709\nC      29.064039\nD      16.256158\nE      15.763547\nF       6.403941\nG       1.970443",
      "text/html": "<div>\n<style scoped>\n    .dataframe tbody tr th:only-of-type {\n        vertical-align: middle;\n    }\n\n    .dataframe tbody tr th {\n        vertical-align: top;\n    }\n\n    .dataframe thead th {\n        text-align: right;\n    }\n</style>\n<table border=\"1\" class=\"dataframe\">\n  <thead>\n    <tr style=\"text-align: right;\">\n      <th>col_0</th>\n      <th>count</th>\n    </tr>\n    <tr>\n      <th>deck</th>\n      <th></th>\n    </tr>\n  </thead>\n  <tbody>\n    <tr>\n      <th>A</th>\n      <td>7.389163</td>\n    </tr>\n    <tr>\n      <th>B</th>\n      <td>23.152709</td>\n    </tr>\n    <tr>\n      <th>C</th>\n      <td>29.064039</td>\n    </tr>\n    <tr>\n      <th>D</th>\n      <td>16.256158</td>\n    </tr>\n    <tr>\n      <th>E</th>\n      <td>15.763547</td>\n    </tr>\n    <tr>\n      <th>F</th>\n      <td>6.403941</td>\n    </tr>\n    <tr>\n      <th>G</th>\n      <td>1.970443</td>\n    </tr>\n  </tbody>\n</table>\n</div>"
     },
     "metadata": {},
     "execution_count": 32
    }
   ],
   "source": [
    "(tab_c/tab_c.sum())*100"
   ]
  },
  {
   "cell_type": "code",
   "execution_count": 36,
   "metadata": {},
   "outputs": [
    {
     "output_type": "execute_result",
     "data": {
      "text/plain": "col_0       a\nsurvived     \n0         549\n1         342",
      "text/html": "<div>\n<style scoped>\n    .dataframe tbody tr th:only-of-type {\n        vertical-align: middle;\n    }\n\n    .dataframe tbody tr th {\n        vertical-align: top;\n    }\n\n    .dataframe thead th {\n        text-align: right;\n    }\n</style>\n<table border=\"1\" class=\"dataframe\">\n  <thead>\n    <tr style=\"text-align: right;\">\n      <th>col_0</th>\n      <th>a</th>\n    </tr>\n    <tr>\n      <th>survived</th>\n      <th></th>\n    </tr>\n  </thead>\n  <tbody>\n    <tr>\n      <th>0</th>\n      <td>549</td>\n    </tr>\n    <tr>\n      <th>1</th>\n      <td>342</td>\n    </tr>\n  </tbody>\n</table>\n</div>"
     },
     "metadata": {},
     "execution_count": 36
    }
   ],
   "source": [
    "sobrevi = pd.crosstab(index=titanic['survived'], columns='a')\n",
    "\n",
    "sobrevi"
   ]
  },
  {
   "cell_type": "code",
   "execution_count": 37,
   "metadata": {},
   "outputs": [
    {
     "output_type": "execute_result",
     "data": {
      "text/plain": "col_0             a\nsurvived           \n0         61.616162\n1         38.383838",
      "text/html": "<div>\n<style scoped>\n    .dataframe tbody tr th:only-of-type {\n        vertical-align: middle;\n    }\n\n    .dataframe tbody tr th {\n        vertical-align: top;\n    }\n\n    .dataframe thead th {\n        text-align: right;\n    }\n</style>\n<table border=\"1\" class=\"dataframe\">\n  <thead>\n    <tr style=\"text-align: right;\">\n      <th>col_0</th>\n      <th>a</th>\n    </tr>\n    <tr>\n      <th>survived</th>\n      <th></th>\n    </tr>\n  </thead>\n  <tbody>\n    <tr>\n      <th>0</th>\n      <td>61.616162</td>\n    </tr>\n    <tr>\n      <th>1</th>\n      <td>38.383838</td>\n    </tr>\n  </tbody>\n</table>\n</div>"
     },
     "metadata": {},
     "execution_count": 37
    }
   ],
   "source": [
    "sobrevi/sobrevi.sum()*100"
   ]
  },
  {
   "cell_type": "code",
   "execution_count": 38,
   "metadata": {},
   "outputs": [],
   "source": [
    "#mujeres proporcion proporcion de gente 3ra clase"
   ]
  },
  {
   "cell_type": "code",
   "execution_count": 39,
   "metadata": {},
   "outputs": [],
   "source": [
    "sexo = pd.crosstab(index=titanic['sex'], columns=['pasajeros'])"
   ]
  },
  {
   "cell_type": "code",
   "execution_count": 40,
   "metadata": {},
   "outputs": [
    {
     "output_type": "execute_result",
     "data": {
      "text/plain": "col_0   pasajeros\nsex              \nfemale  35.241302\nmale    64.758698",
      "text/html": "<div>\n<style scoped>\n    .dataframe tbody tr th:only-of-type {\n        vertical-align: middle;\n    }\n\n    .dataframe tbody tr th {\n        vertical-align: top;\n    }\n\n    .dataframe thead th {\n        text-align: right;\n    }\n</style>\n<table border=\"1\" class=\"dataframe\">\n  <thead>\n    <tr style=\"text-align: right;\">\n      <th>col_0</th>\n      <th>pasajeros</th>\n    </tr>\n    <tr>\n      <th>sex</th>\n      <th></th>\n    </tr>\n  </thead>\n  <tbody>\n    <tr>\n      <th>female</th>\n      <td>35.241302</td>\n    </tr>\n    <tr>\n      <th>male</th>\n      <td>64.758698</td>\n    </tr>\n  </tbody>\n</table>\n</div>"
     },
     "metadata": {},
     "execution_count": 40
    }
   ],
   "source": [
    "sexo/sexo.sum()*100"
   ]
  },
  {
   "cell_type": "code",
   "execution_count": 42,
   "metadata": {},
   "outputs": [
    {
     "output_type": "execute_result",
     "data": {
      "text/plain": "col_0           b\npclass           \n1       24.242424\n2       20.650954\n3       55.106622",
      "text/html": "<div>\n<style scoped>\n    .dataframe tbody tr th:only-of-type {\n        vertical-align: middle;\n    }\n\n    .dataframe tbody tr th {\n        vertical-align: top;\n    }\n\n    .dataframe thead th {\n        text-align: right;\n    }\n</style>\n<table border=\"1\" class=\"dataframe\">\n  <thead>\n    <tr style=\"text-align: right;\">\n      <th>col_0</th>\n      <th>b</th>\n    </tr>\n    <tr>\n      <th>pclass</th>\n      <th></th>\n    </tr>\n  </thead>\n  <tbody>\n    <tr>\n      <th>1</th>\n      <td>24.242424</td>\n    </tr>\n    <tr>\n      <th>2</th>\n      <td>20.650954</td>\n    </tr>\n    <tr>\n      <th>3</th>\n      <td>55.106622</td>\n    </tr>\n  </tbody>\n</table>\n</div>"
     },
     "metadata": {},
     "execution_count": 42
    }
   ],
   "source": [
    "clase=pd.crosstab(index=titanic['pclass'], columns='b')\n",
    "clase/clase.sum()*100"
   ]
  },
  {
   "cell_type": "markdown",
   "metadata": {},
   "source": [
    "# Tablas de contingencia de dos variables\n"
   ]
  },
  {
   "cell_type": "code",
   "execution_count": 44,
   "metadata": {},
   "outputs": [
    {
     "output_type": "execute_result",
     "data": {
      "text/plain": "sex       female  male\ndied          81   468\nsurvived     233   109",
      "text/html": "<div>\n<style scoped>\n    .dataframe tbody tr th:only-of-type {\n        vertical-align: middle;\n    }\n\n    .dataframe tbody tr th {\n        vertical-align: top;\n    }\n\n    .dataframe thead th {\n        text-align: right;\n    }\n</style>\n<table border=\"1\" class=\"dataframe\">\n  <thead>\n    <tr style=\"text-align: right;\">\n      <th>sex</th>\n      <th>female</th>\n      <th>male</th>\n    </tr>\n  </thead>\n  <tbody>\n    <tr>\n      <th>died</th>\n      <td>81</td>\n      <td>468</td>\n    </tr>\n    <tr>\n      <th>survived</th>\n      <td>233</td>\n      <td>109</td>\n    </tr>\n  </tbody>\n</table>\n</div>"
     },
     "metadata": {},
     "execution_count": 44
    }
   ],
   "source": [
    "survived_sex=pd.crosstab(index=titanic['survived'], columns= titanic['sex'])\n",
    "survived_sex.index=['died','survived'] # cambiar el nombre de las filas\n",
    "survived_sex"
   ]
  },
  {
   "cell_type": "code",
   "execution_count": 47,
   "metadata": {},
   "outputs": [
    {
     "output_type": "execute_result",
     "data": {
      "text/plain": "          primera  segunda  tercera\ndied           80       97      372\nsurvived      136       87      119",
      "text/html": "<div>\n<style scoped>\n    .dataframe tbody tr th:only-of-type {\n        vertical-align: middle;\n    }\n\n    .dataframe tbody tr th {\n        vertical-align: top;\n    }\n\n    .dataframe thead th {\n        text-align: right;\n    }\n</style>\n<table border=\"1\" class=\"dataframe\">\n  <thead>\n    <tr style=\"text-align: right;\">\n      <th></th>\n      <th>primera</th>\n      <th>segunda</th>\n      <th>tercera</th>\n    </tr>\n  </thead>\n  <tbody>\n    <tr>\n      <th>died</th>\n      <td>80</td>\n      <td>97</td>\n      <td>372</td>\n    </tr>\n    <tr>\n      <th>survived</th>\n      <td>136</td>\n      <td>87</td>\n      <td>119</td>\n    </tr>\n  </tbody>\n</table>\n</div>"
     },
     "metadata": {},
     "execution_count": 47
    }
   ],
   "source": [
    "survived_class= pd.crosstab(index = titanic['survived'],columns= titanic['pclass'])\n",
    "survived_class.index=[\"died\",\"survived\"]\n",
    "survived_class.columns=[\"primera\",\"segunda\",\"tercera\"]\n",
    "survived_class"
   ]
  },
  {
   "cell_type": "code",
   "execution_count": 51,
   "metadata": {},
   "outputs": [
    {
     "output_type": "execute_result",
     "data": {
      "text/plain": "             primera  segunda  tercera  total_pasajero\ndied              80       97      372             549\nsurvived         136       87      119             342\ntotal_clase      216      184      491             891",
      "text/html": "<div>\n<style scoped>\n    .dataframe tbody tr th:only-of-type {\n        vertical-align: middle;\n    }\n\n    .dataframe tbody tr th {\n        vertical-align: top;\n    }\n\n    .dataframe thead th {\n        text-align: right;\n    }\n</style>\n<table border=\"1\" class=\"dataframe\">\n  <thead>\n    <tr style=\"text-align: right;\">\n      <th></th>\n      <th>primera</th>\n      <th>segunda</th>\n      <th>tercera</th>\n      <th>total_pasajero</th>\n    </tr>\n  </thead>\n  <tbody>\n    <tr>\n      <th>died</th>\n      <td>80</td>\n      <td>97</td>\n      <td>372</td>\n      <td>549</td>\n    </tr>\n    <tr>\n      <th>survived</th>\n      <td>136</td>\n      <td>87</td>\n      <td>119</td>\n      <td>342</td>\n    </tr>\n    <tr>\n      <th>total_clase</th>\n      <td>216</td>\n      <td>184</td>\n      <td>491</td>\n      <td>891</td>\n    </tr>\n  </tbody>\n</table>\n</div>"
     },
     "metadata": {},
     "execution_count": 51
    }
   ],
   "source": [
    "survived_class= pd.crosstab(index = titanic['survived'],columns= titanic['pclass'], margins= True)\n",
    "survived_class.index=[\"died\",\"survived\",\"total_clase\"]\n",
    "survived_class.columns=[\"primera\",\"segunda\",\"tercera\",\"total_pasajero\"]\n",
    "survived_class\n",
    "\n",
    "#Agregar la suma de cada fila y columna margins agregar la fila y columna para que se vean"
   ]
  },
  {
   "cell_type": "markdown",
   "metadata": {},
   "source": [
    "# Frecuencias relativas globales"
   ]
  },
  {
   "cell_type": "code",
   "execution_count": 56,
   "metadata": {},
   "outputs": [
    {
     "output_type": "execute_result",
     "data": {
      "text/plain": "               primera    segunda    tercera  total_pasajero\ndied          8.978676  10.886644  41.750842       61.616162\nsurvived     15.263749   9.764310  13.355780       38.383838\ntotal_clase  24.242424  20.650954  55.106622      100.000000",
      "text/html": "<div>\n<style scoped>\n    .dataframe tbody tr th:only-of-type {\n        vertical-align: middle;\n    }\n\n    .dataframe tbody tr th {\n        vertical-align: top;\n    }\n\n    .dataframe thead th {\n        text-align: right;\n    }\n</style>\n<table border=\"1\" class=\"dataframe\">\n  <thead>\n    <tr style=\"text-align: right;\">\n      <th></th>\n      <th>primera</th>\n      <th>segunda</th>\n      <th>tercera</th>\n      <th>total_pasajero</th>\n    </tr>\n  </thead>\n  <tbody>\n    <tr>\n      <th>died</th>\n      <td>8.978676</td>\n      <td>10.886644</td>\n      <td>41.750842</td>\n      <td>61.616162</td>\n    </tr>\n    <tr>\n      <th>survived</th>\n      <td>15.263749</td>\n      <td>9.764310</td>\n      <td>13.355780</td>\n      <td>38.383838</td>\n    </tr>\n    <tr>\n      <th>total_clase</th>\n      <td>24.242424</td>\n      <td>20.650954</td>\n      <td>55.106622</td>\n      <td>100.000000</td>\n    </tr>\n  </tbody>\n</table>\n</div>"
     },
     "metadata": {},
     "execution_count": 56
    }
   ],
   "source": [
    "survived_class/survived_class.loc[\"total_clase\",\"total_pasajero\"]*100 #con loc accedes a las coordendas del dataframe"
   ]
  },
  {
   "cell_type": "markdown",
   "metadata": {},
   "source": [
    "### Frecuencias relativas marginales"
   ]
  },
  {
   "cell_type": "code",
   "execution_count": 66,
   "metadata": {},
   "outputs": [
    {
     "output_type": "execute_result",
     "data": {
      "text/plain": "                primera     segunda     tercera  total_pasajero\ndied          37.037037   52.717391   75.763747       61.616162\nsurvived      62.962963   47.282609   24.236253       38.383838\ntotal_clase  100.000000  100.000000  100.000000      100.000000",
      "text/html": "<div>\n<style scoped>\n    .dataframe tbody tr th:only-of-type {\n        vertical-align: middle;\n    }\n\n    .dataframe tbody tr th {\n        vertical-align: top;\n    }\n\n    .dataframe thead th {\n        text-align: right;\n    }\n</style>\n<table border=\"1\" class=\"dataframe\">\n  <thead>\n    <tr style=\"text-align: right;\">\n      <th></th>\n      <th>primera</th>\n      <th>segunda</th>\n      <th>tercera</th>\n      <th>total_pasajero</th>\n    </tr>\n  </thead>\n  <tbody>\n    <tr>\n      <th>died</th>\n      <td>37.037037</td>\n      <td>52.717391</td>\n      <td>75.763747</td>\n      <td>61.616162</td>\n    </tr>\n    <tr>\n      <th>survived</th>\n      <td>62.962963</td>\n      <td>47.282609</td>\n      <td>24.236253</td>\n      <td>38.383838</td>\n    </tr>\n    <tr>\n      <th>total_clase</th>\n      <td>100.000000</td>\n      <td>100.000000</td>\n      <td>100.000000</td>\n      <td>100.000000</td>\n    </tr>\n  </tbody>\n</table>\n</div>"
     },
     "metadata": {},
     "execution_count": 66
    }
   ],
   "source": [
    "survived_class/survived_class.loc[\"total_clase\"]*100 # Se hace para sacar el porcentaje por columna (Funcion relativa marginal)"
   ]
  },
  {
   "cell_type": "code",
   "execution_count": 65,
   "metadata": {},
   "outputs": [
    {
     "output_type": "execute_result",
     "data": {
      "text/plain": "                primera     segunda     tercera  total_pasajero\ndied          37.037037   52.717391   75.763747       61.616162\nsurvived      62.962963   47.282609   24.236253       38.383838\ntotal_clase  100.000000  100.000000  100.000000      100.000000",
      "text/html": "<div>\n<style scoped>\n    .dataframe tbody tr th:only-of-type {\n        vertical-align: middle;\n    }\n\n    .dataframe tbody tr th {\n        vertical-align: top;\n    }\n\n    .dataframe thead th {\n        text-align: right;\n    }\n</style>\n<table border=\"1\" class=\"dataframe\">\n  <thead>\n    <tr style=\"text-align: right;\">\n      <th></th>\n      <th>primera</th>\n      <th>segunda</th>\n      <th>tercera</th>\n      <th>total_pasajero</th>\n    </tr>\n  </thead>\n  <tbody>\n    <tr>\n      <th>died</th>\n      <td>37.037037</td>\n      <td>52.717391</td>\n      <td>75.763747</td>\n      <td>61.616162</td>\n    </tr>\n    <tr>\n      <th>survived</th>\n      <td>62.962963</td>\n      <td>47.282609</td>\n      <td>24.236253</td>\n      <td>38.383838</td>\n    </tr>\n    <tr>\n      <th>total_clase</th>\n      <td>100.000000</td>\n      <td>100.000000</td>\n      <td>100.000000</td>\n      <td>100.000000</td>\n    </tr>\n  </tbody>\n</table>\n</div>"
     },
     "metadata": {},
     "execution_count": 65
    }
   ],
   "source": [
    "survived_class.div(survived_class.loc[\"total_clase\"],axis=1)*100 #Funcion relativa marginal"
   ]
  },
  {
   "cell_type": "code",
   "execution_count": 61,
   "metadata": {},
   "outputs": [
    {
     "output_type": "execute_result",
     "data": {
      "text/plain": "                      died    survived  total_clase\nprimera          14.571949   39.766082    24.242424\nsegunda          17.668488   25.438596    20.650954\ntercera          67.759563   34.795322    55.106622\ntotal_pasajero  100.000000  100.000000   100.000000",
      "text/html": "<div>\n<style scoped>\n    .dataframe tbody tr th:only-of-type {\n        vertical-align: middle;\n    }\n\n    .dataframe tbody tr th {\n        vertical-align: top;\n    }\n\n    .dataframe thead th {\n        text-align: right;\n    }\n</style>\n<table border=\"1\" class=\"dataframe\">\n  <thead>\n    <tr style=\"text-align: right;\">\n      <th></th>\n      <th>died</th>\n      <th>survived</th>\n      <th>total_clase</th>\n    </tr>\n  </thead>\n  <tbody>\n    <tr>\n      <th>primera</th>\n      <td>14.571949</td>\n      <td>39.766082</td>\n      <td>24.242424</td>\n    </tr>\n    <tr>\n      <th>segunda</th>\n      <td>17.668488</td>\n      <td>25.438596</td>\n      <td>20.650954</td>\n    </tr>\n    <tr>\n      <th>tercera</th>\n      <td>67.759563</td>\n      <td>34.795322</td>\n      <td>55.106622</td>\n    </tr>\n    <tr>\n      <th>total_pasajero</th>\n      <td>100.000000</td>\n      <td>100.000000</td>\n      <td>100.000000</td>\n    </tr>\n  </tbody>\n</table>\n</div>"
     },
     "metadata": {},
     "execution_count": 61
    }
   ],
   "source": [
    "survived_class.T/survived_class[\"total_pasajero\"]*100\n",
    "# Se hace para sacar el porcentaje por filas"
   ]
  },
  {
   "cell_type": "code",
   "execution_count": 63,
   "metadata": {},
   "outputs": [
    {
     "output_type": "execute_result",
     "data": {
      "text/plain": "               primera    segunda    tercera  total_pasajero\ndied         14.571949  17.668488  67.759563           100.0\nsurvived     39.766082  25.438596  34.795322           100.0\ntotal_clase  24.242424  20.650954  55.106622           100.0",
      "text/html": "<div>\n<style scoped>\n    .dataframe tbody tr th:only-of-type {\n        vertical-align: middle;\n    }\n\n    .dataframe tbody tr th {\n        vertical-align: top;\n    }\n\n    .dataframe thead th {\n        text-align: right;\n    }\n</style>\n<table border=\"1\" class=\"dataframe\">\n  <thead>\n    <tr style=\"text-align: right;\">\n      <th></th>\n      <th>primera</th>\n      <th>segunda</th>\n      <th>tercera</th>\n      <th>total_pasajero</th>\n    </tr>\n  </thead>\n  <tbody>\n    <tr>\n      <th>died</th>\n      <td>14.571949</td>\n      <td>17.668488</td>\n      <td>67.759563</td>\n      <td>100.0</td>\n    </tr>\n    <tr>\n      <th>survived</th>\n      <td>39.766082</td>\n      <td>25.438596</td>\n      <td>34.795322</td>\n      <td>100.0</td>\n    </tr>\n    <tr>\n      <th>total_clase</th>\n      <td>24.242424</td>\n      <td>20.650954</td>\n      <td>55.106622</td>\n      <td>100.0</td>\n    </tr>\n  </tbody>\n</table>\n</div>"
     },
     "metadata": {},
     "execution_count": 63
    }
   ],
   "source": [
    "survived_class.div(survived_class[\"total_pasajero\"],axis=0)*100 # Se hace para sacar el porcentaje por filas"
   ]
  },
  {
   "cell_type": "markdown",
   "metadata": {},
   "source": [
    "# Tablas multidimensionales"
   ]
  },
  {
   "cell_type": "code",
   "execution_count": 67,
   "metadata": {},
   "outputs": [
    {
     "output_type": "execute_result",
     "data": {
      "text/plain": "sex      female          male            All\npclass        1   2    3    1    2    3     \nsurvived                                    \n0             3   6   72   77   91  300  549\n1            91  70   72   45   17   47  342\nAll          94  76  144  122  108  347  891",
      "text/html": "<div>\n<style scoped>\n    .dataframe tbody tr th:only-of-type {\n        vertical-align: middle;\n    }\n\n    .dataframe tbody tr th {\n        vertical-align: top;\n    }\n\n    .dataframe thead tr th {\n        text-align: left;\n    }\n\n    .dataframe thead tr:last-of-type th {\n        text-align: right;\n    }\n</style>\n<table border=\"1\" class=\"dataframe\">\n  <thead>\n    <tr>\n      <th>sex</th>\n      <th colspan=\"3\" halign=\"left\">female</th>\n      <th colspan=\"3\" halign=\"left\">male</th>\n      <th>All</th>\n    </tr>\n    <tr>\n      <th>pclass</th>\n      <th>1</th>\n      <th>2</th>\n      <th>3</th>\n      <th>1</th>\n      <th>2</th>\n      <th>3</th>\n      <th></th>\n    </tr>\n    <tr>\n      <th>survived</th>\n      <th></th>\n      <th></th>\n      <th></th>\n      <th></th>\n      <th></th>\n      <th></th>\n      <th></th>\n    </tr>\n  </thead>\n  <tbody>\n    <tr>\n      <th>0</th>\n      <td>3</td>\n      <td>6</td>\n      <td>72</td>\n      <td>77</td>\n      <td>91</td>\n      <td>300</td>\n      <td>549</td>\n    </tr>\n    <tr>\n      <th>1</th>\n      <td>91</td>\n      <td>70</td>\n      <td>72</td>\n      <td>45</td>\n      <td>17</td>\n      <td>47</td>\n      <td>342</td>\n    </tr>\n    <tr>\n      <th>All</th>\n      <td>94</td>\n      <td>76</td>\n      <td>144</td>\n      <td>122</td>\n      <td>108</td>\n      <td>347</td>\n      <td>891</td>\n    </tr>\n  </tbody>\n</table>\n</div>"
     },
     "metadata": {},
     "execution_count": 67
    }
   ],
   "source": [
    "surv_sex_clase=pd.crosstab(index=titanic['survived'],\n",
    "                            columns=[titanic['sex'],titanic['pclass']],\n",
    "                            margins=True)\n",
    "\n",
    "surv_sex_clase"
   ]
  },
  {
   "cell_type": "code",
   "execution_count": 69,
   "metadata": {},
   "outputs": [
    {
     "output_type": "execute_result",
     "data": {
      "text/plain": "pclass     1   2    3\nsurvived             \n0          3   6   72\n1         91  70   72\nAll       94  76  144",
      "text/html": "<div>\n<style scoped>\n    .dataframe tbody tr th:only-of-type {\n        vertical-align: middle;\n    }\n\n    .dataframe tbody tr th {\n        vertical-align: top;\n    }\n\n    .dataframe thead th {\n        text-align: right;\n    }\n</style>\n<table border=\"1\" class=\"dataframe\">\n  <thead>\n    <tr style=\"text-align: right;\">\n      <th>pclass</th>\n      <th>1</th>\n      <th>2</th>\n      <th>3</th>\n    </tr>\n    <tr>\n      <th>survived</th>\n      <th></th>\n      <th></th>\n      <th></th>\n    </tr>\n  </thead>\n  <tbody>\n    <tr>\n      <th>0</th>\n      <td>3</td>\n      <td>6</td>\n      <td>72</td>\n    </tr>\n    <tr>\n      <th>1</th>\n      <td>91</td>\n      <td>70</td>\n      <td>72</td>\n    </tr>\n    <tr>\n      <th>All</th>\n      <td>94</td>\n      <td>76</td>\n      <td>144</td>\n    </tr>\n  </tbody>\n</table>\n</div>"
     },
     "metadata": {},
     "execution_count": 69
    }
   ],
   "source": [
    "surv_sex_clase['female']# estraer subtablas"
   ]
  },
  {
   "cell_type": "code",
   "execution_count": 70,
   "metadata": {},
   "outputs": [
    {
     "output_type": "execute_result",
     "data": {
      "text/plain": "survived\n0       3\n1      91\nAll    94\nName: 1, dtype: int64"
     },
     "metadata": {},
     "execution_count": 70
    }
   ],
   "source": [
    "surv_sex_clase['female'][1]"
   ]
  },
  {
   "cell_type": "code",
   "execution_count": 72,
   "metadata": {},
   "outputs": [
    {
     "output_type": "execute_result",
     "data": {
      "text/plain": "sex           female                           male                          \\\npclass             1           2      3           1           2           3   \nsurvived                                                                      \n0           3.191489    7.894737   50.0   63.114754   84.259259   86.455331   \n1          96.808511   92.105263   50.0   36.885246   15.740741   13.544669   \nAll       100.000000  100.000000  100.0  100.000000  100.000000  100.000000   \n\nsex              All  \npclass                \nsurvived              \n0          61.616162  \n1          38.383838  \nAll       100.000000  ",
      "text/html": "<div>\n<style scoped>\n    .dataframe tbody tr th:only-of-type {\n        vertical-align: middle;\n    }\n\n    .dataframe tbody tr th {\n        vertical-align: top;\n    }\n\n    .dataframe thead tr th {\n        text-align: left;\n    }\n\n    .dataframe thead tr:last-of-type th {\n        text-align: right;\n    }\n</style>\n<table border=\"1\" class=\"dataframe\">\n  <thead>\n    <tr>\n      <th>sex</th>\n      <th colspan=\"3\" halign=\"left\">female</th>\n      <th colspan=\"3\" halign=\"left\">male</th>\n      <th>All</th>\n    </tr>\n    <tr>\n      <th>pclass</th>\n      <th>1</th>\n      <th>2</th>\n      <th>3</th>\n      <th>1</th>\n      <th>2</th>\n      <th>3</th>\n      <th></th>\n    </tr>\n    <tr>\n      <th>survived</th>\n      <th></th>\n      <th></th>\n      <th></th>\n      <th></th>\n      <th></th>\n      <th></th>\n      <th></th>\n    </tr>\n  </thead>\n  <tbody>\n    <tr>\n      <th>0</th>\n      <td>3.191489</td>\n      <td>7.894737</td>\n      <td>50.0</td>\n      <td>63.114754</td>\n      <td>84.259259</td>\n      <td>86.455331</td>\n      <td>61.616162</td>\n    </tr>\n    <tr>\n      <th>1</th>\n      <td>96.808511</td>\n      <td>92.105263</td>\n      <td>50.0</td>\n      <td>36.885246</td>\n      <td>15.740741</td>\n      <td>13.544669</td>\n      <td>38.383838</td>\n    </tr>\n    <tr>\n      <th>All</th>\n      <td>100.000000</td>\n      <td>100.000000</td>\n      <td>100.0</td>\n      <td>100.000000</td>\n      <td>100.000000</td>\n      <td>100.000000</td>\n      <td>100.000000</td>\n    </tr>\n  </tbody>\n</table>\n</div>"
     },
     "metadata": {},
     "execution_count": 72
    }
   ],
   "source": [
    "surv_sex_clase/surv_sex_clase.loc[\"All\"]*100 # relativa Global para cada una de las columnas"
   ]
  },
  {
   "cell_type": "code",
   "execution_count": null,
   "metadata": {},
   "outputs": [],
   "source": []
  }
 ]
}