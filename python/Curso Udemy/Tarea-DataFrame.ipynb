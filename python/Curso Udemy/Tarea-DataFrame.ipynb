{
 "metadata": {
  "language_info": {
   "codemirror_mode": {
    "name": "ipython",
    "version": 3
   },
   "file_extension": ".py",
   "mimetype": "text/x-python",
   "name": "python",
   "nbconvert_exporter": "python",
   "pygments_lexer": "ipython3",
   "version": 3
  },
  "orig_nbformat": 2,
  "kernelspec": {
   "name": "python_defaultSpec_1595535396329",
   "display_name": "Python 3.8.3 64-bit"
  }
 },
 "nbformat": 4,
 "nbformat_minor": 2,
 "cells": [
  {
   "cell_type": "code",
   "execution_count": 109,
   "metadata": {},
   "outputs": [],
   "source": [
    "import pandas as pd\n",
    "import numpy as np"
   ]
  },
  {
   "cell_type": "code",
   "execution_count": 128,
   "metadata": {},
   "outputs": [
    {
     "output_type": "execute_result",
     "data": {
      "text/plain": "    Unnamed: 0  pulso.antes  pulso.despues hace.deporte fuma genero  altura  \\\n0            1           48             54           no   si      H    68.0   \n1            2           54             56           no   si      H    69.0   \n2            3           54             50           no   no      H    69.0   \n3            4           58             70           si   no      H    72.0   \n4            5           58             58           no   no      H    66.0   \n..         ...          ...            ...          ...  ...    ...     ...   \n87          88           92             94           no   si      H    69.0   \n88          89           94             92           no   si      M    62.0   \n89          90           96            140           si   no      M    61.0   \n90          91           96            116           si   no      M    68.0   \n91          92          100            115           si   si      M    63.0   \n\n    peso tipo.actividad  \n0    150           nula  \n1    145       moderada  \n2    160       moderada  \n3    145       moderada  \n4    135        intensa  \n..   ...            ...  \n87   150       moderada  \n88   131       moderada  \n89   140       moderada  \n90   116       moderada  \n91   121       moderada  \n\n[92 rows x 9 columns]",
      "text/html": "<div>\n<style scoped>\n    .dataframe tbody tr th:only-of-type {\n        vertical-align: middle;\n    }\n\n    .dataframe tbody tr th {\n        vertical-align: top;\n    }\n\n    .dataframe thead th {\n        text-align: right;\n    }\n</style>\n<table border=\"1\" class=\"dataframe\">\n  <thead>\n    <tr style=\"text-align: right;\">\n      <th></th>\n      <th>Unnamed: 0</th>\n      <th>pulso.antes</th>\n      <th>pulso.despues</th>\n      <th>hace.deporte</th>\n      <th>fuma</th>\n      <th>genero</th>\n      <th>altura</th>\n      <th>peso</th>\n      <th>tipo.actividad</th>\n    </tr>\n  </thead>\n  <tbody>\n    <tr>\n      <th>0</th>\n      <td>1</td>\n      <td>48</td>\n      <td>54</td>\n      <td>no</td>\n      <td>si</td>\n      <td>H</td>\n      <td>68.0</td>\n      <td>150</td>\n      <td>nula</td>\n    </tr>\n    <tr>\n      <th>1</th>\n      <td>2</td>\n      <td>54</td>\n      <td>56</td>\n      <td>no</td>\n      <td>si</td>\n      <td>H</td>\n      <td>69.0</td>\n      <td>145</td>\n      <td>moderada</td>\n    </tr>\n    <tr>\n      <th>2</th>\n      <td>3</td>\n      <td>54</td>\n      <td>50</td>\n      <td>no</td>\n      <td>no</td>\n      <td>H</td>\n      <td>69.0</td>\n      <td>160</td>\n      <td>moderada</td>\n    </tr>\n    <tr>\n      <th>3</th>\n      <td>4</td>\n      <td>58</td>\n      <td>70</td>\n      <td>si</td>\n      <td>no</td>\n      <td>H</td>\n      <td>72.0</td>\n      <td>145</td>\n      <td>moderada</td>\n    </tr>\n    <tr>\n      <th>4</th>\n      <td>5</td>\n      <td>58</td>\n      <td>58</td>\n      <td>no</td>\n      <td>no</td>\n      <td>H</td>\n      <td>66.0</td>\n      <td>135</td>\n      <td>intensa</td>\n    </tr>\n    <tr>\n      <th>...</th>\n      <td>...</td>\n      <td>...</td>\n      <td>...</td>\n      <td>...</td>\n      <td>...</td>\n      <td>...</td>\n      <td>...</td>\n      <td>...</td>\n      <td>...</td>\n    </tr>\n    <tr>\n      <th>87</th>\n      <td>88</td>\n      <td>92</td>\n      <td>94</td>\n      <td>no</td>\n      <td>si</td>\n      <td>H</td>\n      <td>69.0</td>\n      <td>150</td>\n      <td>moderada</td>\n    </tr>\n    <tr>\n      <th>88</th>\n      <td>89</td>\n      <td>94</td>\n      <td>92</td>\n      <td>no</td>\n      <td>si</td>\n      <td>M</td>\n      <td>62.0</td>\n      <td>131</td>\n      <td>moderada</td>\n    </tr>\n    <tr>\n      <th>89</th>\n      <td>90</td>\n      <td>96</td>\n      <td>140</td>\n      <td>si</td>\n      <td>no</td>\n      <td>M</td>\n      <td>61.0</td>\n      <td>140</td>\n      <td>moderada</td>\n    </tr>\n    <tr>\n      <th>90</th>\n      <td>91</td>\n      <td>96</td>\n      <td>116</td>\n      <td>si</td>\n      <td>no</td>\n      <td>M</td>\n      <td>68.0</td>\n      <td>116</td>\n      <td>moderada</td>\n    </tr>\n    <tr>\n      <th>91</th>\n      <td>92</td>\n      <td>100</td>\n      <td>115</td>\n      <td>si</td>\n      <td>si</td>\n      <td>M</td>\n      <td>63.0</td>\n      <td>121</td>\n      <td>moderada</td>\n    </tr>\n  </tbody>\n</table>\n<p>92 rows × 9 columns</p>\n</div>"
     },
     "metadata": {},
     "execution_count": 128
    }
   ],
   "source": [
    "df = pd.read_csv(\"dataframe/run2.csv\",delimiter=',',sep=',',decimal=\".\", encoding=\"utf-8\")\n",
    "df"
   ]
  },
  {
   "cell_type": "code",
   "execution_count": 111,
   "metadata": {},
   "outputs": [
    {
     "output_type": "execute_result",
     "data": {
      "text/plain": "93"
     },
     "metadata": {},
     "execution_count": 111
    }
   ],
   "source": [
    "len(df) #Cantidad de estudiantes PREGUNTA 1"
   ]
  },
  {
   "cell_type": "code",
   "execution_count": 112,
   "metadata": {},
   "outputs": [
    {
     "output_type": "execute_result",
     "data": {
      "text/plain": "    ID  pulso_antes  pulso_despues  hace_deporte  fuma  genero  altura  peso  \\\n0  NaN  pulso.antes  pulso.despues  hace.deporte  fuma  genero  altura  peso   \n1  1.0           48             54            no    si       H      68   150   \n2  2.0           54             56            no    si       H      69   145   \n3  3.0           54             50            no    no       H      69   160   \n4  4.0           58             70            si    no       H      72   145   \n\n   tipo_actividad  \n0  tipo.actividad  \n1            nula  \n2        moderada  \n3        moderada  \n4        moderada  ",
      "text/html": "<div>\n<style scoped>\n    .dataframe tbody tr th:only-of-type {\n        vertical-align: middle;\n    }\n\n    .dataframe tbody tr th {\n        vertical-align: top;\n    }\n\n    .dataframe thead th {\n        text-align: right;\n    }\n</style>\n<table border=\"1\" class=\"dataframe\">\n  <thead>\n    <tr style=\"text-align: right;\">\n      <th></th>\n      <th>ID</th>\n      <th>pulso_antes</th>\n      <th>pulso_despues</th>\n      <th>hace_deporte</th>\n      <th>fuma</th>\n      <th>genero</th>\n      <th>altura</th>\n      <th>peso</th>\n      <th>tipo_actividad</th>\n    </tr>\n  </thead>\n  <tbody>\n    <tr>\n      <th>0</th>\n      <td>NaN</td>\n      <td>pulso.antes</td>\n      <td>pulso.despues</td>\n      <td>hace.deporte</td>\n      <td>fuma</td>\n      <td>genero</td>\n      <td>altura</td>\n      <td>peso</td>\n      <td>tipo.actividad</td>\n    </tr>\n    <tr>\n      <th>1</th>\n      <td>1.0</td>\n      <td>48</td>\n      <td>54</td>\n      <td>no</td>\n      <td>si</td>\n      <td>H</td>\n      <td>68</td>\n      <td>150</td>\n      <td>nula</td>\n    </tr>\n    <tr>\n      <th>2</th>\n      <td>2.0</td>\n      <td>54</td>\n      <td>56</td>\n      <td>no</td>\n      <td>si</td>\n      <td>H</td>\n      <td>69</td>\n      <td>145</td>\n      <td>moderada</td>\n    </tr>\n    <tr>\n      <th>3</th>\n      <td>3.0</td>\n      <td>54</td>\n      <td>50</td>\n      <td>no</td>\n      <td>no</td>\n      <td>H</td>\n      <td>69</td>\n      <td>160</td>\n      <td>moderada</td>\n    </tr>\n    <tr>\n      <th>4</th>\n      <td>4.0</td>\n      <td>58</td>\n      <td>70</td>\n      <td>si</td>\n      <td>no</td>\n      <td>H</td>\n      <td>72</td>\n      <td>145</td>\n      <td>moderada</td>\n    </tr>\n  </tbody>\n</table>\n</div>"
     },
     "metadata": {},
     "execution_count": 112
    }
   ],
   "source": [
    "df.head(5)"
   ]
  },
  {
   "cell_type": "code",
   "execution_count": 134,
   "metadata": {},
   "outputs": [
    {
     "output_type": "execute_result",
     "data": {
      "text/plain": "        Unnamed: 0  pulso.antes  pulso.despues  hace.deporte  fuma  altura  \\\ngenero                                                                       \nH               57           57             57            57    57      57   \nM               35           35             35            35    35      35   \n\n        peso  tipo.actividad  \ngenero                        \nH         57              57  \nM         35              35  ",
      "text/html": "<div>\n<style scoped>\n    .dataframe tbody tr th:only-of-type {\n        vertical-align: middle;\n    }\n\n    .dataframe tbody tr th {\n        vertical-align: top;\n    }\n\n    .dataframe thead th {\n        text-align: right;\n    }\n</style>\n<table border=\"1\" class=\"dataframe\">\n  <thead>\n    <tr style=\"text-align: right;\">\n      <th></th>\n      <th>Unnamed: 0</th>\n      <th>pulso.antes</th>\n      <th>pulso.despues</th>\n      <th>hace.deporte</th>\n      <th>fuma</th>\n      <th>altura</th>\n      <th>peso</th>\n      <th>tipo.actividad</th>\n    </tr>\n    <tr>\n      <th>genero</th>\n      <th></th>\n      <th></th>\n      <th></th>\n      <th></th>\n      <th></th>\n      <th></th>\n      <th></th>\n      <th></th>\n    </tr>\n  </thead>\n  <tbody>\n    <tr>\n      <th>H</th>\n      <td>57</td>\n      <td>57</td>\n      <td>57</td>\n      <td>57</td>\n      <td>57</td>\n      <td>57</td>\n      <td>57</td>\n      <td>57</td>\n    </tr>\n    <tr>\n      <th>M</th>\n      <td>35</td>\n      <td>35</td>\n      <td>35</td>\n      <td>35</td>\n      <td>35</td>\n      <td>35</td>\n      <td>35</td>\n      <td>35</td>\n    </tr>\n  </tbody>\n</table>\n</div>"
     },
     "metadata": {},
     "execution_count": 134
    }
   ],
   "source": [
    "df.groupby('genero').count() #Cuenta Hombres y mujeres, H 57 M 35 #preguntra 2"
   ]
  },
  {
   "cell_type": "code",
   "execution_count": 146,
   "metadata": {},
   "outputs": [
    {
     "output_type": "execute_result",
     "data": {
      "text/plain": "hace.deporte\nno     0.209479\nsi    26.215407\ndtype: float64"
     },
     "metadata": {},
     "execution_count": 146
    }
   ],
   "source": [
    "def variacion (d):\n",
    "    df2 = np.mean((((d['pulso.despues']-d['pulso.antes'])/d['pulso.antes'])*100))\n",
    "    return df2\n",
    "    \n",
    "df.groupby('hace.deporte').apply(variacion)"
   ]
  },
  {
   "cell_type": "code",
   "execution_count": 150,
   "metadata": {},
   "outputs": [
    {
     "output_type": "execute_result",
     "data": {
      "text/plain": "genero\nH    19.176886\nM    41.572181\ndtype: float64"
     },
     "metadata": {},
     "execution_count": 150
    }
   ],
   "source": [
    "df3=df.loc[df.loc[:,'hace.deporte']=='si']\n",
    "df3.groupby('genero').apply(variacion)"
   ]
  },
  {
   "cell_type": "code",
   "execution_count": 152,
   "metadata": {},
   "outputs": [
    {
     "output_type": "execute_result",
     "data": {
      "text/plain": "fuma\nno   -0.064761\nsi    0.912219\ndtype: float64"
     },
     "metadata": {},
     "execution_count": 152
    }
   ],
   "source": [
    "df3=df.loc[df.loc[:,'hace.deporte']=='no']\n",
    "df3.groupby('fuma').apply(variacion)"
   ]
  },
  {
   "cell_type": "code",
   "execution_count": 153,
   "metadata": {},
   "outputs": [
    {
     "output_type": "execute_result",
     "data": {
      "text/plain": "tipo.actividad\nintensa      1.347475\nmoderada    14.015695\nnula        12.500000\nsuave        3.747241\ndtype: float64"
     },
     "metadata": {},
     "execution_count": 153
    }
   ],
   "source": [
    "\n",
    "df.groupby('tipo.actividad').apply(variacion)"
   ]
  },
  {
   "cell_type": "code",
   "execution_count": null,
   "metadata": {},
   "outputs": [],
   "source": []
  }
 ]
}